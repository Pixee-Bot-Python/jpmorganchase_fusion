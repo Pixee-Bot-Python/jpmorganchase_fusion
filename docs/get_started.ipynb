{
 "cells": [
  {
   "cell_type": "markdown",
   "id": "64409f83-7db3-41f6-949d-b6aa609f32da",
   "metadata": {},
   "source": [
    "# Fusion - get started"
   ]
  },
  {
   "cell_type": "code",
   "execution_count": 1,
   "id": "c0a56d66-c7d4-4804-b6c9-b131c69bc2bc",
   "metadata": {},
   "outputs": [],
   "source": [
    "import pandas as pd\n",
    "import matplotlib.pyplot as plt\n",
    "from fusion import Fusion\n",
    "\n",
    "plt.style.use(\"bmh\")"
   ]
  },
  {
   "cell_type": "markdown",
   "id": "68f9e16f-6264-4d7b-bb15-c277572934fa",
   "metadata": {},
   "source": [
    "## Establish the connection"
   ]
  },
  {
   "cell_type": "code",
   "execution_count": 2,
   "id": "3ae2500a-d40a-4b55-9895-7d2f41e10043",
   "metadata": {},
   "outputs": [],
   "source": [
    "fusion = Fusion()"
   ]
  },
  {
   "cell_type": "markdown",
   "id": "7df75a86-4157-4a18-af96-d4731b1a54c4",
   "metadata": {},
   "source": [
    "## Show the available functionality"
   ]
  },
  {
   "cell_type": "code",
   "execution_count": 3,
   "id": "a2ec15a7-e2d7-400a-9c64-76d5b644cf86",
   "metadata": {},
   "outputs": [
    {
     "data": {
      "text/plain": [
       "Fusion object \n",
       "Available methods:\n",
       "+-------------------------+\n",
       "| catalog_resources       |\n",
       "| dataset_resources       |\n",
       "| datasetmember_resources |\n",
       "| download                |\n",
       "| get_fusion_filesystem   |\n",
       "| list_catalogs           |\n",
       "| list_dataset_attributes |\n",
       "| list_datasetmembers     |\n",
       "| list_datasets           |\n",
       "| list_distributions      |\n",
       "| list_products           |\n",
       "| to_df                   |\n",
       "| upload                  |\n",
       "| default_catalog         |\n",
       "+-------------------------+"
      ]
     },
     "execution_count": 3,
     "metadata": {},
     "output_type": "execute_result"
    }
   ],
   "source": [
    "fusion"
   ]
  },
  {
   "cell_type": "markdown",
   "id": "7f01d904-a2cd-4395-9909-e618fdbc0bce",
   "metadata": {
    "tags": []
   },
   "source": [
    "## Access function documentation"
   ]
  },
  {
   "cell_type": "code",
   "execution_count": 4,
   "id": "d8c67829-ca29-4f02-b635-cb18b16d053c",
   "metadata": {},
   "outputs": [
    {
     "data": {
      "text/plain": [
       "\u001b[1;31mSignature:\u001b[0m\n",
       "\u001b[0mfusion\u001b[0m\u001b[1;33m.\u001b[0m\u001b[0mto_df\u001b[0m\u001b[1;33m(\u001b[0m\u001b[1;33m\n",
       "\u001b[0m    \u001b[0mdataset\u001b[0m\u001b[1;33m:\u001b[0m \u001b[0mstr\u001b[0m\u001b[1;33m,\u001b[0m\u001b[1;33m\n",
       "\u001b[0m    \u001b[0mdt_str\u001b[0m\u001b[1;33m:\u001b[0m \u001b[0mstr\u001b[0m \u001b[1;33m=\u001b[0m \u001b[1;34m'latest'\u001b[0m\u001b[1;33m,\u001b[0m\u001b[1;33m\n",
       "\u001b[0m    \u001b[0mdataset_format\u001b[0m\u001b[1;33m:\u001b[0m \u001b[0mstr\u001b[0m \u001b[1;33m=\u001b[0m \u001b[1;34m'parquet'\u001b[0m\u001b[1;33m,\u001b[0m\u001b[1;33m\n",
       "\u001b[0m    \u001b[0mcatalog\u001b[0m\u001b[1;33m:\u001b[0m \u001b[0mstr\u001b[0m \u001b[1;33m=\u001b[0m \u001b[1;32mNone\u001b[0m\u001b[1;33m,\u001b[0m\u001b[1;33m\n",
       "\u001b[0m    \u001b[0mn_par\u001b[0m\u001b[1;33m:\u001b[0m \u001b[0mint\u001b[0m \u001b[1;33m=\u001b[0m \u001b[1;32mNone\u001b[0m\u001b[1;33m,\u001b[0m\u001b[1;33m\n",
       "\u001b[0m    \u001b[0mshow_progress\u001b[0m\u001b[1;33m:\u001b[0m \u001b[0mbool\u001b[0m \u001b[1;33m=\u001b[0m \u001b[1;32mTrue\u001b[0m\u001b[1;33m,\u001b[0m\u001b[1;33m\n",
       "\u001b[0m    \u001b[0mcolumns\u001b[0m\u001b[1;33m:\u001b[0m \u001b[0mList\u001b[0m \u001b[1;33m=\u001b[0m \u001b[1;32mNone\u001b[0m\u001b[1;33m,\u001b[0m\u001b[1;33m\n",
       "\u001b[0m    \u001b[0mfilters\u001b[0m\u001b[1;33m:\u001b[0m \u001b[0mList\u001b[0m \u001b[1;33m=\u001b[0m \u001b[1;32mNone\u001b[0m\u001b[1;33m,\u001b[0m\u001b[1;33m\n",
       "\u001b[0m    \u001b[0mforce_download\u001b[0m\u001b[1;33m:\u001b[0m \u001b[0mbool\u001b[0m \u001b[1;33m=\u001b[0m \u001b[1;32mFalse\u001b[0m\u001b[1;33m,\u001b[0m\u001b[1;33m\n",
       "\u001b[0m    \u001b[0mdownload_folder\u001b[0m\u001b[1;33m:\u001b[0m \u001b[0mstr\u001b[0m \u001b[1;33m=\u001b[0m \u001b[1;32mNone\u001b[0m\u001b[1;33m,\u001b[0m\u001b[1;33m\n",
       "\u001b[0m    \u001b[1;33m**\u001b[0m\u001b[0mkwargs\u001b[0m\u001b[1;33m,\u001b[0m\u001b[1;33m\n",
       "\u001b[0m\u001b[1;33m)\u001b[0m \u001b[1;33m->\u001b[0m \u001b[0mpandas\u001b[0m\u001b[1;33m.\u001b[0m\u001b[0mcore\u001b[0m\u001b[1;33m.\u001b[0m\u001b[0mframe\u001b[0m\u001b[1;33m.\u001b[0m\u001b[0mDataFrame\u001b[0m\u001b[1;33m\u001b[0m\u001b[1;33m\u001b[0m\u001b[0m\n",
       "\u001b[1;31mDocstring:\u001b[0m\n",
       "Gets distributions for a specified date or date range and returns the data as a dataframe.\n",
       "\n",
       "Args:\n",
       "    dataset (str): A dataset identifier\n",
       "    dt_str (str, optional): Either a single date or a range identified by a start or end date,\n",
       "        or both separated with a \":\". Defaults to 'latest' which will return the most recent\n",
       "        instance of the dataset.\n",
       "    dataset_format (str, optional): The file format, e.g. CSV or Parquet. Defaults to 'parquet'.\n",
       "    catalog (str, optional): A catalog identifier. Defaults to 'common'.\n",
       "    n_par (int, optional): Specify how many distributions to download in parallel.\n",
       "        Defaults to all cpus available.\n",
       "    show_progress (bool, optional): Display a progress bar during data download Defaults to True.\n",
       "    columns (List, optional): A list of columns to return from a parquet file. Defaults to None\n",
       "    filters (List, optional): List[Tuple] or List[List[Tuple]] or None (default)\n",
       "        Rows which do not match the filter predicate will be removed from scanned data.\n",
       "        Partition keys embedded in a nested directory structure will be exploited to avoid\n",
       "        loading files at all if they contain no matching rows. If use_legacy_dataset is True,\n",
       "        filters can only reference partition keys and only a hive-style directory structure\n",
       "        is supported. When setting use_legacy_dataset to False, also within-file level filtering\n",
       "        and different partitioning schemes are supported.\n",
       "        More on https://arrow.apache.org/docs/python/generated/pyarrow.parquet.ParquetDataset.html\n",
       "    force_download (bool, optional): If True then will always download a file even\n",
       "        if it is already on disk. Defaults to False.\n",
       "    download_folder (str, optional): The path, absolute or relative, where downloaded files are saved.\n",
       "        Defaults to download_folder as set in __init__\n",
       "Returns:\n",
       "    class:`pandas.DataFrame`: a dataframe containing the requested data.\n",
       "        If multiple dataset instances are retrieved then these are concatenated first.\n",
       "\u001b[1;31mFile:\u001b[0m      d:\\dev\\fusion\\fusion\\fusion.py\n",
       "\u001b[1;31mType:\u001b[0m      method\n"
      ]
     },
     "metadata": {},
     "output_type": "display_data"
    }
   ],
   "source": [
    "fusion.to_df?"
   ]
  },
  {
   "cell_type": "markdown",
   "id": "622c2227-ac2c-4df0-b2d7-0de4e2d5b9f5",
   "metadata": {},
   "source": [
    "## Explore the datasets"
   ]
  },
  {
   "cell_type": "code",
   "execution_count": 5,
   "id": "e43ad35d-1c5c-4493-b8c0-16e5340450a0",
   "metadata": {},
   "outputs": [
    {
     "data": {
      "text/html": [
       "<div>\n",
       "<style scoped>\n",
       "    .dataframe tbody tr th:only-of-type {\n",
       "        vertical-align: middle;\n",
       "    }\n",
       "\n",
       "    .dataframe tbody tr th {\n",
       "        vertical-align: top;\n",
       "    }\n",
       "\n",
       "    .dataframe thead th {\n",
       "        text-align: right;\n",
       "    }\n",
       "</style>\n",
       "<table border=\"1\" class=\"dataframe\">\n",
       "  <thead>\n",
       "    <tr style=\"text-align: right;\">\n",
       "      <th></th>\n",
       "      <th>identifier</th>\n",
       "      <th>title</th>\n",
       "      <th>region</th>\n",
       "      <th>category</th>\n",
       "      <th>coverageStartDate</th>\n",
       "      <th>coverageEndDate</th>\n",
       "      <th>description</th>\n",
       "    </tr>\n",
       "  </thead>\n",
       "  <tbody>\n",
       "    <tr>\n",
       "      <th>7</th>\n",
       "      <td>FX_EASIDX</td>\n",
       "      <td>Economic Activity Surprise Index (EASI) FX</td>\n",
       "      <td>EMEA, North America, APAC, Emerging Markets, G...</td>\n",
       "      <td>Economics</td>\n",
       "      <td>2019-01-01</td>\n",
       "      <td>2023-01-04</td>\n",
       "      <td>The Economic Activity Surprise Index is publis...</td>\n",
       "    </tr>\n",
       "    <tr>\n",
       "      <th>15</th>\n",
       "      <td>FX_MEAN_IMM</td>\n",
       "      <td>FX Mean Reversion Strategies IMM</td>\n",
       "      <td>EMEA, North America, APAC, Emerging Markets, G...</td>\n",
       "      <td>FX</td>\n",
       "      <td>2019-01-01</td>\n",
       "      <td>2023-01-04</td>\n",
       "      <td>The FX Mean Reversion, IMM dataset from J.P. M...</td>\n",
       "    </tr>\n",
       "    <tr>\n",
       "      <th>19</th>\n",
       "      <td>FXO_SP</td>\n",
       "      <td>FX Cash Rate</td>\n",
       "      <td>EMEA, North America, APAC, Emerging Markets, G...</td>\n",
       "      <td>FX</td>\n",
       "      <td>2019-01-01</td>\n",
       "      <td>2023-01-04</td>\n",
       "      <td>This dataset includes FX spot rates for major ...</td>\n",
       "    </tr>\n",
       "    <tr>\n",
       "      <th>20</th>\n",
       "      <td>FXO_RR</td>\n",
       "      <td>FX Option Structure | Risk Reversal</td>\n",
       "      <td>EMEA, North America, APAC, Emerging Markets, G...</td>\n",
       "      <td>FX</td>\n",
       "      <td>2019-01-01</td>\n",
       "      <td>2023-01-04</td>\n",
       "      <td>Implied volatility for 10 and 25 delta FX opti...</td>\n",
       "    </tr>\n",
       "    <tr>\n",
       "      <th>21</th>\n",
       "      <td>FXO_ST</td>\n",
       "      <td>FX Option Structure | Strangles</td>\n",
       "      <td>EMEA, North America, APAC, Emerging Markets, G...</td>\n",
       "      <td>FX</td>\n",
       "      <td>2019-01-01</td>\n",
       "      <td>2023-01-04</td>\n",
       "      <td>Implied volatility for 10 and 25 delta FX opti...</td>\n",
       "    </tr>\n",
       "    <tr>\n",
       "      <th>34</th>\n",
       "      <td>FX-ECV-Post-Trade</td>\n",
       "      <td>FX ECV Post-Trade Report</td>\n",
       "      <td>Global</td>\n",
       "      <td>FX</td>\n",
       "      <td>NaN</td>\n",
       "      <td>NaN</td>\n",
       "      <td>FX ECV Post-Trade Report.</td>\n",
       "    </tr>\n",
       "    <tr>\n",
       "      <th>46</th>\n",
       "      <td>FX_ECONOMIC</td>\n",
       "      <td>FX Specialized | Momentum Strategies (Economics)</td>\n",
       "      <td>EMEA, North America, APAC, Emerging Markets, G...</td>\n",
       "      <td>FX</td>\n",
       "      <td>2019-01-01</td>\n",
       "      <td>2023-01-04</td>\n",
       "      <td>Momentum signals in a trend following strategy...</td>\n",
       "    </tr>\n",
       "    <tr>\n",
       "      <th>63</th>\n",
       "      <td>FXO_IV</td>\n",
       "      <td>FX Specialized | Option Implied Volatility</td>\n",
       "      <td>EMEA, North America, APAC, Emerging Markets, G...</td>\n",
       "      <td>FX</td>\n",
       "      <td>2019-01-01</td>\n",
       "      <td>2023-01-04</td>\n",
       "      <td>Global FX option implied volatility data for a...</td>\n",
       "    </tr>\n",
       "    <tr>\n",
       "      <th>74</th>\n",
       "      <td>FX_JPM_TCI</td>\n",
       "      <td>FX Passive Index</td>\n",
       "      <td>EMEA, North America, APAC, Global</td>\n",
       "      <td>FX</td>\n",
       "      <td>2019-01-01</td>\n",
       "      <td>2023-01-04</td>\n",
       "      <td>FX passive index level and currency sub-indices.</td>\n",
       "    </tr>\n",
       "    <tr>\n",
       "      <th>75</th>\n",
       "      <td>FX_MEAN_HFFV</td>\n",
       "      <td>FX Mean Reversion Strategies Hi Freq Fair Value</td>\n",
       "      <td>EMEA, North America, APAC, Global</td>\n",
       "      <td>FX</td>\n",
       "      <td>2019-01-01</td>\n",
       "      <td>2023-01-04</td>\n",
       "      <td>The FX High Frequency Fair Value dataset from ...</td>\n",
       "    </tr>\n",
       "  </tbody>\n",
       "</table>\n",
       "</div>"
      ],
      "text/plain": [
       "           identifier                                             title  \\\n",
       "7           FX_EASIDX        Economic Activity Surprise Index (EASI) FX   \n",
       "15        FX_MEAN_IMM                  FX Mean Reversion Strategies IMM   \n",
       "19             FXO_SP                                      FX Cash Rate   \n",
       "20             FXO_RR               FX Option Structure | Risk Reversal   \n",
       "21             FXO_ST                   FX Option Structure | Strangles   \n",
       "34  FX-ECV-Post-Trade                          FX ECV Post-Trade Report   \n",
       "46        FX_ECONOMIC  FX Specialized | Momentum Strategies (Economics)   \n",
       "63             FXO_IV        FX Specialized | Option Implied Volatility   \n",
       "74         FX_JPM_TCI                                  FX Passive Index   \n",
       "75       FX_MEAN_HFFV   FX Mean Reversion Strategies Hi Freq Fair Value   \n",
       "\n",
       "                                               region   category  \\\n",
       "7   EMEA, North America, APAC, Emerging Markets, G...  Economics   \n",
       "15  EMEA, North America, APAC, Emerging Markets, G...         FX   \n",
       "19  EMEA, North America, APAC, Emerging Markets, G...         FX   \n",
       "20  EMEA, North America, APAC, Emerging Markets, G...         FX   \n",
       "21  EMEA, North America, APAC, Emerging Markets, G...         FX   \n",
       "34                                             Global         FX   \n",
       "46  EMEA, North America, APAC, Emerging Markets, G...         FX   \n",
       "63  EMEA, North America, APAC, Emerging Markets, G...         FX   \n",
       "74                  EMEA, North America, APAC, Global         FX   \n",
       "75                  EMEA, North America, APAC, Global         FX   \n",
       "\n",
       "   coverageStartDate coverageEndDate  \\\n",
       "7         2019-01-01      2023-01-04   \n",
       "15        2019-01-01      2023-01-04   \n",
       "19        2019-01-01      2023-01-04   \n",
       "20        2019-01-01      2023-01-04   \n",
       "21        2019-01-01      2023-01-04   \n",
       "34               NaN             NaN   \n",
       "46        2019-01-01      2023-01-04   \n",
       "63        2019-01-01      2023-01-04   \n",
       "74        2019-01-01      2023-01-04   \n",
       "75        2019-01-01      2023-01-04   \n",
       "\n",
       "                                          description  \n",
       "7   The Economic Activity Surprise Index is publis...  \n",
       "15  The FX Mean Reversion, IMM dataset from J.P. M...  \n",
       "19  This dataset includes FX spot rates for major ...  \n",
       "20  Implied volatility for 10 and 25 delta FX opti...  \n",
       "21  Implied volatility for 10 and 25 delta FX opti...  \n",
       "34                          FX ECV Post-Trade Report.  \n",
       "46  Momentum signals in a trend following strategy...  \n",
       "63  Global FX option implied volatility data for a...  \n",
       "74   FX passive index level and currency sub-indices.  \n",
       "75  The FX High Frequency Fair Value dataset from ...  "
      ]
     },
     "execution_count": 5,
     "metadata": {},
     "output_type": "execute_result"
    }
   ],
   "source": [
    "fusion.list_datasets(\"FX\")"
   ]
  },
  {
   "cell_type": "markdown",
   "id": "521a8934-4bcf-4d3e-97c4-0f7a7101038b",
   "metadata": {},
   "source": [
    "## Display the attributes"
   ]
  },
  {
   "cell_type": "code",
   "execution_count": 6,
   "id": "ea68c035-1be1-4720-85f7-3d3fa1fafc04",
   "metadata": {},
   "outputs": [
    {
     "data": {
      "text/html": [
       "<div>\n",
       "<style scoped>\n",
       "    .dataframe tbody tr th:only-of-type {\n",
       "        vertical-align: middle;\n",
       "    }\n",
       "\n",
       "    .dataframe tbody tr th {\n",
       "        vertical-align: top;\n",
       "    }\n",
       "\n",
       "    .dataframe thead th {\n",
       "        text-align: right;\n",
       "    }\n",
       "</style>\n",
       "<table border=\"1\" class=\"dataframe\">\n",
       "  <thead>\n",
       "    <tr style=\"text-align: right;\">\n",
       "      <th></th>\n",
       "      <th>identifier</th>\n",
       "      <th>dataType</th>\n",
       "      <th>isDatasetKey</th>\n",
       "      <th>description</th>\n",
       "    </tr>\n",
       "  </thead>\n",
       "  <tbody>\n",
       "    <tr>\n",
       "      <th>0</th>\n",
       "      <td>instrument_name</td>\n",
       "      <td>String</td>\n",
       "      <td>True</td>\n",
       "      <td>The instrument name</td>\n",
       "    </tr>\n",
       "    <tr>\n",
       "      <th>1</th>\n",
       "      <td>currency_pair</td>\n",
       "      <td>String</td>\n",
       "      <td>False</td>\n",
       "      <td>The currency pair</td>\n",
       "    </tr>\n",
       "    <tr>\n",
       "      <th>2</th>\n",
       "      <td>term</td>\n",
       "      <td>String</td>\n",
       "      <td>False</td>\n",
       "      <td>The time period of an investment, agreement or...</td>\n",
       "    </tr>\n",
       "    <tr>\n",
       "      <th>3</th>\n",
       "      <td>product</td>\n",
       "      <td>String</td>\n",
       "      <td>False</td>\n",
       "      <td>The product identifier</td>\n",
       "    </tr>\n",
       "    <tr>\n",
       "      <th>4</th>\n",
       "      <td>date</td>\n",
       "      <td>String</td>\n",
       "      <td>False</td>\n",
       "      <td>The snapshot date</td>\n",
       "    </tr>\n",
       "    <tr>\n",
       "      <th>5</th>\n",
       "      <td>fx_rate</td>\n",
       "      <td>Double</td>\n",
       "      <td>False</td>\n",
       "      <td>The spot and forward fx rate</td>\n",
       "    </tr>\n",
       "  </tbody>\n",
       "</table>\n",
       "</div>"
      ],
      "text/plain": [
       "        identifier dataType  isDatasetKey  \\\n",
       "0  instrument_name   String          True   \n",
       "1    currency_pair   String         False   \n",
       "2             term   String         False   \n",
       "3          product   String         False   \n",
       "4             date   String         False   \n",
       "5          fx_rate   Double         False   \n",
       "\n",
       "                                         description  \n",
       "0                                The instrument name  \n",
       "1                                  The currency pair  \n",
       "2  The time period of an investment, agreement or...  \n",
       "3                             The product identifier  \n",
       "4                                  The snapshot date  \n",
       "5                       The spot and forward fx rate  "
      ]
     },
     "execution_count": 6,
     "metadata": {},
     "output_type": "execute_result"
    }
   ],
   "source": [
    "fusion.list_dataset_attributes(\"FXO_SP\")"
   ]
  },
  {
   "cell_type": "markdown",
   "id": "604bab2b-cee3-46ed-8c55-324e8cd685ad",
   "metadata": {},
   "source": [
    "## Download and load"
   ]
  },
  {
   "cell_type": "code",
   "execution_count": 7,
   "id": "7a2ed2ce-2a94-408a-b7e0-dcec6ccb981a",
   "metadata": {},
   "outputs": [
    {
     "name": "stderr",
     "output_type": "stream",
     "text": [
      "100%|████████████████████████████████████████| 258/258 [00:03<00:00, 68.80it/s]\n"
     ]
    }
   ],
   "source": [
    "df = fusion.to_df(\"FXO_SP\", \"20220101:20221231\", columns=[\"currency_pair\", \"date\", \"fx_rate\"], filters=[(\"currency_pair\", \"=\", \"GBPUSD\")])"
   ]
  },
  {
   "cell_type": "markdown",
   "id": "81476d65-19de-485e-b7ae-d046c3f5c9e6",
   "metadata": {},
   "source": [
    "## Analyze"
   ]
  },
  {
   "cell_type": "code",
   "execution_count": 8,
   "id": "123d3145-6881-40ec-a7d3-8fe28c76c960",
   "metadata": {},
   "outputs": [
    {
     "data": {
      "text/html": [
       "<div>\n",
       "<style scoped>\n",
       "    .dataframe tbody tr th:only-of-type {\n",
       "        vertical-align: middle;\n",
       "    }\n",
       "\n",
       "    .dataframe tbody tr th {\n",
       "        vertical-align: top;\n",
       "    }\n",
       "\n",
       "    .dataframe thead th {\n",
       "        text-align: right;\n",
       "    }\n",
       "</style>\n",
       "<table border=\"1\" class=\"dataframe\">\n",
       "  <thead>\n",
       "    <tr style=\"text-align: right;\">\n",
       "      <th></th>\n",
       "      <th>currency_pair</th>\n",
       "      <th>date</th>\n",
       "      <th>fx_rate</th>\n",
       "    </tr>\n",
       "  </thead>\n",
       "  <tbody>\n",
       "    <tr>\n",
       "      <th>0</th>\n",
       "      <td>GBPUSD</td>\n",
       "      <td>20220318</td>\n",
       "      <td>1.31705</td>\n",
       "    </tr>\n",
       "    <tr>\n",
       "      <th>1</th>\n",
       "      <td>GBPUSD</td>\n",
       "      <td>20220322</td>\n",
       "      <td>1.32590</td>\n",
       "    </tr>\n",
       "    <tr>\n",
       "      <th>2</th>\n",
       "      <td>GBPUSD</td>\n",
       "      <td>20220103</td>\n",
       "      <td>1.34475</td>\n",
       "    </tr>\n",
       "    <tr>\n",
       "      <th>3</th>\n",
       "      <td>GBPUSD</td>\n",
       "      <td>20220104</td>\n",
       "      <td>1.35530</td>\n",
       "    </tr>\n",
       "    <tr>\n",
       "      <th>4</th>\n",
       "      <td>GBPUSD</td>\n",
       "      <td>20220105</td>\n",
       "      <td>1.35660</td>\n",
       "    </tr>\n",
       "  </tbody>\n",
       "</table>\n",
       "</div>"
      ],
      "text/plain": [
       "  currency_pair      date  fx_rate\n",
       "0        GBPUSD  20220318  1.31705\n",
       "1        GBPUSD  20220322  1.32590\n",
       "2        GBPUSD  20220103  1.34475\n",
       "3        GBPUSD  20220104  1.35530\n",
       "4        GBPUSD  20220105  1.35660"
      ]
     },
     "execution_count": 8,
     "metadata": {},
     "output_type": "execute_result"
    }
   ],
   "source": [
    "df.head()"
   ]
  },
  {
   "cell_type": "code",
   "execution_count": 9,
   "id": "8b0262ac-9d43-404f-9a0c-579872807ad7",
   "metadata": {},
   "outputs": [
    {
     "data": {
      "image/png": "[encoded data removed]",
      "text/plain": [
       "<Figure size 432x288 with 1 Axes>"
      ]
     },
     "metadata": {
      "needs_background": "light"
     },
     "output_type": "display_data"
    }
   ],
   "source": [
    "df[\"date\"] = pd.to_datetime(df[\"date\"].astype(\"str\"))\n",
    "df.sort_values(\"date\").set_index(\"date\").plot(grid=True);"
   ]
  }
 ],
 "metadata": {
  "kernelspec": {
   "display_name": "Python 3 (ipykernel)",
   "language": "python",
   "name": "python3"
  },
  "language_info": {
   "codemirror_mode": {
    "name": "ipython",
    "version": 3
   },
   "file_extension": ".py",
   "mimetype": "text/x-python",
   "name": "python",
   "nbconvert_exporter": "python",
   "pygments_lexer": "ipython3",
   "version": "3.8.5"
  }
 },
 "nbformat": 4,
 "nbformat_minor": 5
}
